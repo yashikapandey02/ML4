{
 "cells": [
  {
   "cell_type": "code",
   "execution_count": null,
   "id": "7a1e9743",
   "metadata": {},
   "outputs": [],
   "source": [
    "1. What are the key tasks involved in getting ready to work with machine learning modeling?"
   ]
  },
  {
   "cell_type": "code",
   "execution_count": null,
   "id": "95869291",
   "metadata": {},
   "outputs": [],
   "source": [
    "Ans:\n",
    "\n",
    "First is to define a problem statement that we wish to solve using machine learning.\n",
    "Second is to collect data for our machine learning problem statement.\n",
    "Third is to tabulate that data.\n",
    "Fourth is to clean the data. Cleaning the data may include imputing missing values, removing outliers, standardizing the keywords or headers, conversions to proper datatypes etc.\n",
    "Fifth step would be to perform an exploratory data analysis to find the key details that would later help in our modeling.\n",
    "Last step before machine learning modelling can begin would be to standardize data and split the cleaned data into training and test data.\n"
   ]
  },
  {
   "cell_type": "code",
   "execution_count": null,
   "id": "a54f4f0b",
   "metadata": {},
   "outputs": [],
   "source": []
  },
  {
   "cell_type": "code",
   "execution_count": null,
   "id": "8eb6b9fa",
   "metadata": {},
   "outputs": [],
   "source": [
    "2. What are the different forms of data used in machine learning? Give a specific example for each of them."
   ]
  },
  {
   "cell_type": "code",
   "execution_count": null,
   "id": "9961c9bb",
   "metadata": {},
   "outputs": [],
   "source": [
    "Ans:\n",
    "Qualitative data - One that does not necessarily have an order to it and is categorical in nature. For example, in IRIS dataset, the qualitative data would be the variety having class labels or categories Virginicolor, Setosa and Versicolor\n",
    "Quantitative data - One that has an order to it and is numerical in nature. For example, Petal length in IRIS dataset is a quantitative data.\n",
    "Time series data - Time series data is one that has time based data. For example, Any covid-19 based data will have date time against infections, death etc. because time plays an important role in Covid analysis in finding the spread rate etc.\n",
    "Text based data - String based data that are generally remarks, comments or reviews, used for Natural Language Processing."
   ]
  },
  {
   "cell_type": "markdown",
   "id": "8f898247",
   "metadata": {},
   "source": [
    "### "
   ]
  },
  {
   "cell_type": "code",
   "execution_count": null,
   "id": "860b0472",
   "metadata": {},
   "outputs": [],
   "source": [
    "3. Distinguish:\n",
    "\n",
    "1. Numeric vs. categorical attributes\n",
    "\n",
    "2. Feature selection vs. dimensionality reduction"
   ]
  },
  {
   "cell_type": "code",
   "execution_count": null,
   "id": "063f4955",
   "metadata": {},
   "outputs": [],
   "source": [
    "Ans:\n",
    "1. Numeric vs. categorical attributes\n",
    "\n",
    "Numerical attributes are those data types that are numerical in nature. More importantly, they have an order to themselves, are mathematical and can be of integer or float datatype\n",
    "Categorical attributes are those data types that provide characteristics of something. It can be numeric but without any order or mathematical meaning to it.\n",
    "\n",
    "2. Feature selection vs. dimensionality reduction\n",
    "\n",
    "Feature selection is a technique using which, the most important of features or those features that bring most information with them to machine learning modeling process in predicting or clustering are included and the rest are removed\n",
    "\n",
    "Dimensionality reduction is a process by which the explanatory features are transformed and elevated to a lower dimension. It is also the process by which the irrelevant features are removed. Several machine learning algorithms are highly negatively affected by high dimensionality, due to which this process becomes very important.\n"
   ]
  },
  {
   "cell_type": "code",
   "execution_count": null,
   "id": "03338e2f",
   "metadata": {},
   "outputs": [],
   "source": [
    "4. Make quick notes on any two of the following:\n",
    "\n",
    "1. The histogram\n",
    "\n",
    "2. Use a scatter plot\n",
    "\n",
    "3.PCA (Personal Computer Aid)"
   ]
  },
  {
   "cell_type": "code",
   "execution_count": null,
   "id": "e9120cab",
   "metadata": {},
   "outputs": [],
   "source": [
    "Ans:\n",
    "4.1. The histogram\n",
    "\n",
    "Histograms are graphs used to visualize continous and discrete quantitative variables and distribution of data. Histogram requires bin size to make changes in granularity.\n",
    "\n",
    "4.2. Use a scatter plot\n",
    "\n",
    "Scatter plots are used to plot 2-D or 3-D plots using 2 or 3 variables of data points. They are important in visually finding trends in data with low dimensionality.\n"
   ]
  },
  {
   "cell_type": "code",
   "execution_count": null,
   "id": "775b315a",
   "metadata": {},
   "outputs": [],
   "source": [
    "5. Why is it necessary to investigate data? Is there a discrepancy in how qualitative and quantitative data are explored?"
   ]
  },
  {
   "cell_type": "code",
   "execution_count": null,
   "id": "183bfe06",
   "metadata": {},
   "outputs": [],
   "source": [
    "Ans:Investigation of data is important to find trends, note interesting points, find errors and missing values and \n",
    "    outliers that may require remedy. Quantitative data exploration requires numbers recieved from observation and experiment.\n",
    "    Qualitative data exploration is different as most of it hinges on frequency table to formulate observations."
   ]
  },
  {
   "cell_type": "code",
   "execution_count": null,
   "id": "9b60aaee",
   "metadata": {},
   "outputs": [],
   "source": [
    "6. What are the various histogram shapes? What exactly are ‘bins'?"
   ]
  },
  {
   "cell_type": "code",
   "execution_count": null,
   "id": "927bbb5f",
   "metadata": {},
   "outputs": [],
   "source": [
    "Ans:Histogram shapes can be left skewed, right skewed, approximately normal, approximately uniform, bimodal and more. \n",
    "    Bins are classes in which several qualitative values are clubbed together based on required granularity along with their \n",
    "    corresponding frequencies"
   ]
  },
  {
   "cell_type": "code",
   "execution_count": null,
   "id": "91ddd98e",
   "metadata": {},
   "outputs": [],
   "source": [
    "7. How do we deal with data outliers?"
   ]
  },
  {
   "cell_type": "code",
   "execution_count": null,
   "id": "c68bf02f",
   "metadata": {},
   "outputs": [],
   "source": [
    "Ans:\n",
    "Outliers can be removed along with the entire data point if they are in low numbers and their removal does not result in\n",
    "heavy reductions of data. Else, outliers can be replaced with imputed values if highly extreme and low in numbers against a \n",
    "high dimensional data.\n",
    "Outliers might also be bringing some meaning in the data in case of skewed distributions. In that case, outliers must be kept.\n"
   ]
  },
  {
   "cell_type": "code",
   "execution_count": null,
   "id": "89ad9f59",
   "metadata": {},
   "outputs": [],
   "source": [
    "8.What are the various central inclination measures? Why does mean vary too much from median in certain data sets?"
   ]
  },
  {
   "cell_type": "code",
   "execution_count": null,
   "id": "200f7f65",
   "metadata": {},
   "outputs": [],
   "source": [
    "Ans:\n",
    "Central tendency measures are of primarily 2 types\n",
    "numeric averages - Arithmetic mean, geometric mean, harmonic mean\n",
    "and positional averages - median and mode\n",
    "Mean can vary too much from median if the data has extremities or outliers."
   ]
  },
  {
   "cell_type": "code",
   "execution_count": null,
   "id": "1e44b2df",
   "metadata": {},
   "outputs": [],
   "source": [
    "9. Describe how a scatter plot can be used to investigate bivariate relationships. Is it possible to find outliers using a \n",
    "scatter plot?"
   ]
  },
  {
   "cell_type": "code",
   "execution_count": null,
   "id": "76757cfb",
   "metadata": {},
   "outputs": [],
   "source": [
    "Ans:\n",
    "Scatterplots can be a great way to find linear relationships between two variables having highly positive or negative \n",
    "correlation coefficient as most of the data points would be in a straight line. Other non linear relationships like quadratic\n",
    "or trigonometric relations can also be approximated and identified visually between two variables. Outliers can also be found \n",
    "using scatter plots.\n"
   ]
  },
  {
   "cell_type": "code",
   "execution_count": null,
   "id": "f8234fc0",
   "metadata": {},
   "outputs": [],
   "source": [
    "10. Describe how cross-tabs can be used to figure out how two variables are related."
   ]
  },
  {
   "cell_type": "code",
   "execution_count": null,
   "id": "245e98df",
   "metadata": {},
   "outputs": [],
   "source": [
    "Ans:Cross tabs or cross tabulation are only used to find relations between two categorical variables where one categorical\n",
    "    variable value would be giving row data and the other variable would give column data. Several tests like the chi square \n",
    "    test can help find relations based on the cross tab."
   ]
  }
 ],
 "metadata": {
  "kernelspec": {
   "display_name": "Python 3 (ipykernel)",
   "language": "python",
   "name": "python3"
  },
  "language_info": {
   "codemirror_mode": {
    "name": "ipython",
    "version": 3
   },
   "file_extension": ".py",
   "mimetype": "text/x-python",
   "name": "python",
   "nbconvert_exporter": "python",
   "pygments_lexer": "ipython3",
   "version": "3.9.7"
  }
 },
 "nbformat": 4,
 "nbformat_minor": 5
}
